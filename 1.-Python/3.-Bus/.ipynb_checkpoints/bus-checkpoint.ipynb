{
 "cells": [
  {
   "cell_type": "markdown",
   "metadata": {},
   "source": [
    "<img src=\"https://bit.ly/2VnXWr2\" width=\"100\" align=\"left\">"
   ]
  },
  {
   "cell_type": "markdown",
   "metadata": {},
   "source": [
    "# Bus\n",
    "\n",
    "This bus has a passenger entry and exit control system to monitor the number of occupants it carries and thus detect when there are too many.\n",
    "\n",
    "At each stop, the entry and exit of passengers is represented by a tuple consisting of two integer numbers.\n",
    "```\n",
    "bus_stop = (in, out)\n",
    "```\n",
    "The succession of stops is represented by a list of these tuples.\n",
    "```\n",
    "stops = [(in1, out1), (in2, out2), (in3, out3), (in4, out4)]\n",
    "```\n",
    "\n",
    "## Tools\n",
    "You don't necessarily need to use all the tools. Maybe you opt to use some of them or completely different ones, they are given to help you shape the exercise. Programming exercises can be solved in many different ways.\n",
    "* Data structures: **lists, tuples**\n",
    "* Loop: **while/for loops**\n",
    "* Functions: **min, max, len**\n",
    "\n",
    "## Tasks"
   ]
  },
  {
   "cell_type": "code",
   "execution_count": 1,
   "metadata": {},
   "outputs": [],
   "source": [
    "# Variables\n",
    "stops = [(10, 0), (4, 1), (3, 5), (3, 4), (5, 1), (1, 5), (5, 8), (4, 6), (2, 3)]"
   ]
  },
  {
   "cell_type": "markdown",
   "metadata": {},
   "source": [
    "#### 1. Calculate the number of stops."
   ]
  },
  {
   "cell_type": "code",
   "execution_count": 2,
   "metadata": {},
   "outputs": [
    {
     "name": "stdout",
     "output_type": "stream",
     "text": [
      "Number of stops:  9\n"
     ]
    }
   ],
   "source": [
    "number_stops = len(stops);\n",
    "print(\"Number of stops: \",number_stops);"
   ]
  },
  {
   "cell_type": "markdown",
   "metadata": {},
   "source": [
    "#### 2. Assign to a variable a list whose elements are the number of passengers at each stop (in-out).\n",
    "Each item depends on the previous item in the list + in - out."
   ]
  },
  {
   "cell_type": "code",
   "execution_count": 6,
   "metadata": {},
   "outputs": [
    {
     "name": "stdout",
     "output_type": "stream",
     "text": [
      "Bus has  10  passengers at stop # 0\n",
      "Bus has  13  passengers at stop # 1\n",
      "Bus has  11  passengers at stop # 2\n",
      "Bus has  10  passengers at stop # 3\n",
      "Bus has  14  passengers at stop # 4\n",
      "Bus has  10  passengers at stop # 5\n",
      "Bus has  7  passengers at stop # 6\n",
      "Bus has  5  passengers at stop # 7\n",
      "Bus has  4  passengers at stop # 8\n"
     ]
    }
   ],
   "source": [
    "unnamed = [];\n",
    "bus_passengers = 0;\n",
    "\n",
    "for stop in  range(number_stops):\n",
    "    stop_total = stops[stop][0] - stops[stop][1];\n",
    "    bus_passengers += stop_total; \n",
    "    unnamed.append(bus_passengers);\n",
    "    print(\"Bus has \",bus_passengers,\" passengers at stop #\",stop);"
   ]
  },
  {
   "cell_type": "markdown",
   "metadata": {},
   "source": [
    "#### 3. Find the maximum occupation of the bus."
   ]
  },
  {
   "cell_type": "code",
   "execution_count": 7,
   "metadata": {},
   "outputs": [
    {
     "name": "stdout",
     "output_type": "stream",
     "text": [
      "Maximum occupation: 14\n"
     ]
    }
   ],
   "source": [
    "maximum_occup = max(unnamed);\n",
    "print(\"Maximum occupation:\",maximum_occup);"
   ]
  },
  {
   "cell_type": "markdown",
   "metadata": {},
   "source": [
    "#### 4. Calculate the average occupation. And the standard deviation."
   ]
  },
  {
   "cell_type": "code",
   "execution_count": 8,
   "metadata": {},
   "outputs": [
    {
     "name": "stdout",
     "output_type": "stream",
     "text": [
      "avrg occp: 9.333333333333334\n",
      "sigma: 10.222222222222221\n",
      "standard deviation: 3.197221015541813\n"
     ]
    }
   ],
   "source": [
    "average_occup = sum(unnamed)/len(unnamed);\n",
    "sigma = list(map(lambda x: (x-average_occup)**2 , unnamed));\n",
    "sigma = sum (sigma)/len(sigma);\n",
    "import math;\n",
    "std_deviation = math.sqrt(sigma);\n",
    "\n",
    "print(\"avrg occp:\",average_occup);\n",
    "print(\"sigma:\",sigma);\n",
    "print(\"standard deviation:\",std_deviation);"
   ]
  },
  {
   "cell_type": "code",
   "execution_count": null,
   "metadata": {},
   "outputs": [],
   "source": []
  }
 ],
 "metadata": {
  "kernelspec": {
   "display_name": "Python 3",
   "language": "python",
   "name": "python3"
  },
  "language_info": {
   "codemirror_mode": {
    "name": "ipython",
    "version": 3
   },
   "file_extension": ".py",
   "mimetype": "text/x-python",
   "name": "python",
   "nbconvert_exporter": "python",
   "pygments_lexer": "ipython3",
   "version": "3.8.3"
  }
 },
 "nbformat": 4,
 "nbformat_minor": 2
}
