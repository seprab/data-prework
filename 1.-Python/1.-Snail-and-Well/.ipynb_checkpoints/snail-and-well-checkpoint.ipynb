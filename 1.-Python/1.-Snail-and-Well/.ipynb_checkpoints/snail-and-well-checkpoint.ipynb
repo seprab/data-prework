{
 "cells": [
  {
   "cell_type": "markdown",
   "metadata": {},
   "source": [
    "<img src=\"https://bit.ly/2VnXWr2\" width=\"100\" align=\"left\">"
   ]
  },
  {
   "cell_type": "markdown",
   "metadata": {},
   "source": [
    "# The Snail and the Well\n",
    "\n",
    "A snail falls at the bottom of a 125 cm well. Each day the snail rises 30 cm. But at night, while sleeping, slides 20 cm because the walls are wet. How many days does it take for the snail to escape the well?\n",
    "\n",
    "**Hint**: The snail gets out of the well when it surpasses the 125cm of height.\n",
    "\n",
    "## Tools\n",
    "\n",
    "1. Loop: **while**\n",
    "2. Conditional statements: **if-else**\n",
    "3. Function: **print()**\n",
    "\n",
    "## Tasks\n",
    "\n",
    "#### 1. Assign the challenge data to variables with representative names: `well_height`, `daily_distance`, `nightly_distance` and `snail_position`."
   ]
  },
  {
   "cell_type": "code",
   "execution_count": 36,
   "metadata": {},
   "outputs": [],
   "source": [
    "well_height = 125;\n",
    "daily_distance = 30;\n",
    "nightly_distance = -20;\n",
    "snail_position = -well_height;"
   ]
  },
  {
   "cell_type": "markdown",
   "metadata": {},
   "source": [
    "#### 2. Create a variable `days` to keep count of the days that pass until the snail escapes the well. "
   ]
  },
  {
   "cell_type": "code",
   "execution_count": 37,
   "metadata": {},
   "outputs": [],
   "source": [
    "days=0;"
   ]
  },
  {
   "cell_type": "markdown",
   "metadata": {},
   "source": [
    "#### 3. Find the solution to the challenge using the variables defined above. "
   ]
  },
  {
   "cell_type": "code",
   "execution_count": 38,
   "metadata": {},
   "outputs": [],
   "source": [
    "while snail_position<0:\n",
    "    snail_position+=(daily_distance+nightly_distance);\n",
    "    days+=1;"
   ]
  },
  {
   "cell_type": "markdown",
   "metadata": {},
   "source": [
    "#### 4. Print the solution."
   ]
  },
  {
   "cell_type": "code",
   "execution_count": 39,
   "metadata": {},
   "outputs": [
    {
     "name": "stdout",
     "output_type": "stream",
     "text": [
      "days elapsed until scape:  13\n"
     ]
    }
   ],
   "source": [
    "print(\"days elapsed until scape: \",days);"
   ]
  },
  {
   "cell_type": "markdown",
   "metadata": {},
   "source": [
    "## Bonus\n",
    "The distance traveled by the snail each day is now defined by a list.\n",
    "```\n",
    "advance_cm = [30, 21, 33, 77, 44, 45, 23, 45, 12, 34, 55]\n",
    "```\n",
    "On the first day, the snail rises 30cm but during the night it slides 20cm. On the second day, the snail rises 21cm but during the night it slides 20cm, and so on. \n",
    "\n",
    "#### 1. How many days does it take for the snail to escape the well?\n",
    "Follow the same guidelines as in the previous challenge.\n",
    "\n",
    "**Hint**: Remember that the snail gets out of the well when it surpasses the 125cm of height."
   ]
  },
  {
   "cell_type": "code",
   "execution_count": 40,
   "metadata": {},
   "outputs": [
    {
     "name": "stdout",
     "output_type": "stream",
     "text": [
      "Snail position day  1 :  -115\n",
      "Snail position day  2 :  -114\n",
      "Snail position day  3 :  -101\n",
      "Snail position day  4 :  -44\n",
      "Snail position day  5 :  -20\n",
      "Snail position day  6 :  5\n",
      "days elapsed until scape:  6\n"
     ]
    }
   ],
   "source": [
    "well_height = 125;\n",
    "daily_distance = [30, 21, 33, 77, 44, 45, 23, 45, 12, 34, 55]\n",
    "nightly_distance = -20;\n",
    "snail_position = -well_height;\n",
    "days=0;\n",
    "\n",
    "while snail_position<0:\n",
    "    snail_position+=(daily_distance[days]+nightly_distance);\n",
    "    days+=1;\n",
    "    print(\"Snail position day \",days,\": \",snail_position);\n",
    "    \n",
    "print(\"days elapsed until scape: \",days);"
   ]
  },
  {
   "cell_type": "markdown",
   "metadata": {},
   "source": [
    "#### 2. What is its maximum displacement in one day? And its minimum? Calculate the displacement using only the travel distance of the days used to get out of the well. \n",
    "**Hint**: Remember that displacement means the total distance risen taking into account that the snail slides at night.  "
   ]
  },
  {
   "cell_type": "code",
   "execution_count": 42,
   "metadata": {},
   "outputs": [
    {
     "name": "stdout",
     "output_type": "stream",
     "text": [
      "The max displacement possible by the given array:  57\n",
      "The min displacement possible by the given array:  1\n"
     ]
    }
   ],
   "source": [
    "daily_distance = [30, 21, 33, 77, 44, 45, 23, 45, 12, 34, 55]\n",
    "nightly_distance = -20;\n",
    "min_displacement = min(daily_distance[:days]) + nightly_distance;\n",
    "max_displacement = max(daily_distance[:days]) + nightly_distance;\n",
    "\n",
    "print(\"The max displacement possible by the given array: \",max_displacement);\n",
    "print(\"The min displacement possible by the given array: \",min_displacement);"
   ]
  },
  {
   "cell_type": "markdown",
   "metadata": {},
   "source": [
    "#### 3. What is its average progress? Take into account the snail slides at night."
   ]
  },
  {
   "cell_type": "code",
   "execution_count": 48,
   "metadata": {
    "scrolled": false
   },
   "outputs": [
    {
     "name": "stdout",
     "output_type": "stream",
     "text": [
      "total displacements:  [10, 1, 13, 57, 24, 25, 3, 25, -8, 14, 35]\n",
      "The average progress during the scape was:  21.666666666666668\n"
     ]
    }
   ],
   "source": [
    "total_displacements = list(map(lambda x: x+nightly_distance, daily_distance));\n",
    "average_progress = sum(total_displacements[:days]) / len(total_displacements[:days])\n",
    "print(\"total displacements: \",total_displacements);\n",
    "print(\"The average progress during the scape was: \",average_progress);"
   ]
  },
  {
   "cell_type": "markdown",
   "metadata": {},
   "source": [
    "#### 4. What is the standard deviation of its displacement? Take into account the snail slides at night."
   ]
  },
  {
   "cell_type": "code",
   "execution_count": 54,
   "metadata": {},
   "outputs": [
    {
     "name": "stdout",
     "output_type": "stream",
     "text": [
      "Variance:  317.2222222222221\n",
      "The standard deviation is  17.81073334319006 m\n"
     ]
    }
   ],
   "source": [
    "sigma = list ( map ( lambda x: (x -  average_progress)**2, total_displacements));\n",
    "sigma = sum( sigma[:days] ) / days;\n",
    "print(\"Variance: \",sigma);\n",
    "\n",
    "import math;\n",
    "std_deviation = math.sqrt(sigma);\n",
    "print(\"The standard deviation is \", std_deviation, \"m\")"
   ]
  },
  {
   "cell_type": "code",
   "execution_count": null,
   "metadata": {},
   "outputs": [],
   "source": []
  }
 ],
 "metadata": {
  "kernelspec": {
   "display_name": "Python 3",
   "language": "python",
   "name": "python3"
  },
  "language_info": {
   "codemirror_mode": {
    "name": "ipython",
    "version": 3
   },
   "file_extension": ".py",
   "mimetype": "text/x-python",
   "name": "python",
   "nbconvert_exporter": "python",
   "pygments_lexer": "ipython3",
   "version": "3.8.3"
  }
 },
 "nbformat": 4,
 "nbformat_minor": 2
}
