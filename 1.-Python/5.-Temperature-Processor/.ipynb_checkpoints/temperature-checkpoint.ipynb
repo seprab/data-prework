{
 "cells": [
  {
   "cell_type": "markdown",
   "metadata": {},
   "source": [
    "<img src=\"https://bit.ly/2VnXWr2\" width=\"100\" align=\"left\">"
   ]
  },
  {
   "cell_type": "markdown",
   "metadata": {},
   "source": [
    "# Temperature Sensor\n",
    "\n",
    "There is a temperature sensor in the processor of your company's server. The company wants to analyze the data provided by the sensor to decide if they should change the cooling system for a better one. As changing the cooling system is expensive and you are an excellent data analyst, you can't make a decision without basis.\n",
    "\n",
    "## Tools\n",
    "You don't necessarily need to use all the tools. Maybe you opt to use some of them or completely different ones, they are given to help you shape the exercise. Programming exercises can be solved in many different ways.\n",
    "1. Data structures: **lists**\n",
    "2. Loops: **list comprehension**\n",
    "3. Functions: **min, max, print, len**\n",
    "4. Conditional statements: **if-elif-else**\n",
    "\n",
    "## Tasks\n",
    "The temperatures measured throughout the 24 hours of a day are:"
   ]
  },
  {
   "cell_type": "code",
   "execution_count": 4,
   "metadata": {},
   "outputs": [],
   "source": [
    "temperatures_C = [33, 66, 65, 0, 59, 60, 62, 64, 70, 76, 80, 81, 80, 83, 90, 79, 61, 53, 50, 49, 53, 48, 45, 39]"
   ]
  },
  {
   "cell_type": "markdown",
   "metadata": {},
   "source": [
    "The first element of the list is the temperature at 12am, the second element is the temperature at 1am, and so on. \n",
    "\n",
    "The company has decided that if one of the following events occurs, then the cooling system needs to be replaced for a new one to avoid damaging the processor.\n",
    "* More than 4 temperatures are greater than or equal to 70ºC.\n",
    "* Any temperature is above 80ºC.\n",
    "* The average temperature exceeds 65ºC.\n",
    "\n",
    "Follow the steps so that you can make the decision.\n",
    "\n",
    "#### 1. Find the minimum temperature of the day and store it in a variable."
   ]
  },
  {
   "cell_type": "code",
   "execution_count": 7,
   "metadata": {},
   "outputs": [
    {
     "name": "stdout",
     "output_type": "stream",
     "text": [
      "min: 0\n"
     ]
    }
   ],
   "source": [
    "min_temp = min(temperatures_C);\n",
    "print(\"min:\",min_temp);"
   ]
  },
  {
   "cell_type": "markdown",
   "metadata": {},
   "source": [
    "#### 2. Find the maximum temperature of the day and store it in a variable."
   ]
  },
  {
   "cell_type": "code",
   "execution_count": 8,
   "metadata": {},
   "outputs": [
    {
     "name": "stdout",
     "output_type": "stream",
     "text": [
      "max: 90\n"
     ]
    }
   ],
   "source": [
    "max_temp = max(temperatures_C);\n",
    "print(\"max:\",max_temp);"
   ]
  },
  {
   "cell_type": "markdown",
   "metadata": {},
   "source": [
    "#### 3. Create a list with the temperatures that are greater than or equal to 70ºC. Store it in a variable."
   ]
  },
  {
   "cell_type": "code",
   "execution_count": 11,
   "metadata": {},
   "outputs": [
    {
     "name": "stdout",
     "output_type": "stream",
     "text": [
      "Temps over 70°C: [70, 76, 80, 81, 80, 83, 90, 79]\n"
     ]
    }
   ],
   "source": [
    "greaterThan70 = [];\n",
    "for temp in temperatures_C:\n",
    "    if(temp>=70):\n",
    "        greaterThan70.append(temp);\n",
    "print(\"Temps over 70°C:\",greaterThan70);"
   ]
  },
  {
   "cell_type": "markdown",
   "metadata": {},
   "source": [
    "#### 4. Find the average temperature of the day and store it in a variable."
   ]
  },
  {
   "cell_type": "code",
   "execution_count": 12,
   "metadata": {},
   "outputs": [
    {
     "name": "stdout",
     "output_type": "stream",
     "text": [
      "average temp: 60.25\n"
     ]
    }
   ],
   "source": [
    "average_temp = sum(temperatures_C)/len(temperatures_C);\n",
    "print(\"average temp:\",average_temp);"
   ]
  },
  {
   "cell_type": "markdown",
   "metadata": {},
   "source": [
    "#### 5. Imagine that there was a sensor failure at 3am and the data for that specific hour was not recorded. How would you estimate the missing value? Replace the current value of the list at 3am for an estimation. "
   ]
  },
  {
   "cell_type": "code",
   "execution_count": 13,
   "metadata": {},
   "outputs": [
    {
     "name": "stdout",
     "output_type": "stream",
     "text": [
      "Estimation at 3m:  62.0\n"
     ]
    }
   ],
   "source": [
    "temperatures_C[3] = (temperatures_C[2]+temperatures_C[4])/2;\n",
    "print(\"Estimation at 3m: \",temperatures_C[3]);"
   ]
  },
  {
   "cell_type": "markdown",
   "metadata": {},
   "source": [
    "#### 6. Bonus: the maintenance staff is from the United States and does not understand the international metric system. Help them by converting the temperatures from Celsius to Fahrenheit.\n",
    "To know more about temperature conversion check this [link](https://en.wikipedia.org/wiki/Conversion_of_units_of_temperature).\n",
    "\n",
    "**Formula**: \n",
    "\n",
    "$F = 1.8 * C + 32$"
   ]
  },
  {
   "cell_type": "code",
   "execution_count": 14,
   "metadata": {},
   "outputs": [
    {
     "name": "stdout",
     "output_type": "stream",
     "text": [
      "Temps in F: [91.4, 150.8, 149.0, 143.60000000000002, 138.2, 140.0, 143.60000000000002, 147.2, 158.0, 168.8, 176.0, 177.8, 176.0, 181.4, 194.0, 174.20000000000002, 141.8, 127.4, 122.0, 120.2, 127.4, 118.4, 113.0, 102.2]\n"
     ]
    }
   ],
   "source": [
    "temperatures_F = list( map( lambda x: (1.8 * x) + 32 , temperatures_C) );\n",
    "print(\"Temps in F:\",temperatures_F);"
   ]
  },
  {
   "cell_type": "markdown",
   "metadata": {},
   "source": [
    "#### 7. Make a decision!\n",
    "Now it's time to make a decision taking into account what you have seen until now. \n",
    "\n",
    "Remember that if one of the following events occurs, then the cooling system needs to be replaced for a new one to avoid damaging the processor.\n",
    "* More than 4 temperatures are greater than or equal to 70ºC.\n",
    "* Any temperature is above 80ºC.\n",
    "* The average temperature exceeds 65ºC.\n",
    "\n",
    "#### To make your decision, check if any of the three conditions above is met. You might need to use some of the variables you created in steps 1 to 6. Print a message to show if the cooling system needs to be changed or not."
   ]
  },
  {
   "cell_type": "code",
   "execution_count": 15,
   "metadata": {},
   "outputs": [
    {
     "name": "stdout",
     "output_type": "stream",
     "text": [
      "More than 4 temperatures are greater than or equal to 70ºC. Replace the cooling system.\n",
      "Any temperature is above 80ºC. Replace the cooling system.\n"
     ]
    }
   ],
   "source": [
    "if len(greaterThan70)>4:\n",
    "    print(\"More than 4 temperatures are greater than or equal to 70ºC. Replace the cooling system.\");\n",
    "if max_temp>80:\n",
    "    print(\"Any temperature is above 80ºC. Replace the cooling system.\");\n",
    "if average_temp>65:\n",
    "    print(\"The average temperature exceeds 65ºC.\");"
   ]
  },
  {
   "cell_type": "markdown",
   "metadata": {},
   "source": [
    "## Bonus\n",
    "\n",
    "The company has decided that the decision you made is not valid. They want you to analyze the data again but this time, the conditions that need to be met in order to change the cooling system are different.\n",
    "\n",
    "This time, if one of the following events occurs, then the cooling system needs to be replaced:\n",
    "* The temperature is greater than 70ºC during more than 4 consecutive hours.\n",
    "* Any temperature is above 80ºC.\n",
    "* The average temperature exceeds 65ºC.\n",
    "\n",
    "Follow the steps so that you can make the decision.\n",
    "\n",
    "#### 1. Create a list with the hours where the temperature is greater than 70ºC. Store it in a variable."
   ]
  },
  {
   "cell_type": "code",
   "execution_count": 16,
   "metadata": {},
   "outputs": [
    {
     "name": "stdout",
     "output_type": "stream",
     "text": [
      "hoursGreaterThan70: [9, 10, 11, 12, 13, 14, 15]\n"
     ]
    }
   ],
   "source": [
    "hoursGreaterThan70 = [];\n",
    "for hour in range(len(temperatures_C)):\n",
    "    if temperatures_C[hour]>70:\n",
    "        hoursGreaterThan70.append(hour);\n",
    "print(\"hoursGreaterThan70:\",hoursGreaterThan70);"
   ]
  },
  {
   "cell_type": "markdown",
   "metadata": {},
   "source": [
    "#### 2. Check if the list you created in step 1 has more than 4 consecutive hours. "
   ]
  },
  {
   "cell_type": "code",
   "execution_count": 19,
   "metadata": {},
   "outputs": [
    {
     "name": "stdout",
     "output_type": "stream",
     "text": [
      "Condition found\n",
      "Condition found\n"
     ]
    }
   ],
   "source": [
    "consecutiveHours = 0;\n",
    "lastHour = 0;\n",
    "conditionMet = False;\n",
    "\n",
    "for hour in range(len(hoursGreaterThan70)):  \n",
    "    if (hour - lastHour) == 1:\n",
    "        consecutiveHours+=1;   \n",
    "    else:\n",
    "        consecutiveHours = 0; \n",
    "    \n",
    "    if(consecutiveHours>4):\n",
    "        conditionMet = True;\n",
    "        print(\"Condition found\");\n",
    "    lastHour = hour;    \n",
    "    "
   ]
  },
  {
   "cell_type": "markdown",
   "metadata": {},
   "source": [
    "#### 3. Make the decision!\n",
    "To make your decision, check if any of the three conditions is met. Print a message to show if the cooling system needs to be changed or not."
   ]
  },
  {
   "cell_type": "code",
   "execution_count": 20,
   "metadata": {},
   "outputs": [
    {
     "name": "stdout",
     "output_type": "stream",
     "text": [
      "The temperature is greater than 70ºC during more than 4 consecutive hours. Replace the cooling system.\n",
      "Any temperature is above 80ºC. Replace the cooling system.\n"
     ]
    }
   ],
   "source": [
    "if conditionMet:\n",
    "    print(\"The temperature is greater than 70ºC during more than 4 consecutive hours. Replace the cooling system.\");\n",
    "if max_temp>80:\n",
    "    print(\"Any temperature is above 80ºC. Replace the cooling system.\");\n",
    "if average_temp>65:\n",
    "    print(\"The average temperature exceeds 65ºC.\");"
   ]
  },
  {
   "cell_type": "markdown",
   "metadata": {},
   "source": [
    "#### 4. Find the average value of the temperature lists (ºC and ºF). What is the relation between both average values?"
   ]
  },
  {
   "cell_type": "code",
   "execution_count": 22,
   "metadata": {},
   "outputs": [
    {
     "name": "stdout",
     "output_type": "stream",
     "text": [
      "avrg_C 62.833333333333336\n",
      "avrg_F 145.1\n",
      "They are the same... in diferent metric system\n"
     ]
    }
   ],
   "source": [
    "avrg_C = sum(temperatures_C)/len(temperatures_C);\n",
    "avrg_F = sum(temperatures_F)/len(temperatures_F);\n",
    "print (\"avrg_C\",avrg_C);\n",
    "print (\"avrg_F\",avrg_F);\n",
    "print (\"They are the same... in diferent metric system\")"
   ]
  },
  {
   "cell_type": "markdown",
   "metadata": {},
   "source": [
    "#### 5. Find the standard deviation of the temperature lists (ºC and ºF). What is the relation between both standard deviations?"
   ]
  },
  {
   "cell_type": "code",
   "execution_count": 23,
   "metadata": {},
   "outputs": [
    {
     "name": "stdout",
     "output_type": "stream",
     "text": [
      "Variance C:  214.1388888888889\n",
      "Variance F:  693.81\n",
      "The standard deviation for C is  14.633485192833897\n",
      "The standard deviation for F is  26.34027334710101\n"
     ]
    }
   ],
   "source": [
    "C_sigma = list ( map ( lambda x: (x -  avrg_C )**2, temperatures_C));\n",
    "C_sigma = sum( C_sigma ) / len(C_sigma);\n",
    "\n",
    "F_sigma = list ( map ( lambda x: (x -  avrg_F)**2, temperatures_F));\n",
    "F_sigma = sum( F_sigma ) / len(F_sigma);\n",
    "\n",
    "print(\"Variance C: \",C_sigma);\n",
    "print(\"Variance F: \",F_sigma);\n",
    "\n",
    "import math;\n",
    "C_std_deviation = math.sqrt(C_sigma);\n",
    "F_std_deviation = math.sqrt(F_sigma);\n",
    "\n",
    "print(\"The standard deviation for C is \", C_std_deviation)\n",
    "print(\"The standard deviation for F is \", F_std_deviation)"
   ]
  },
  {
   "cell_type": "code",
   "execution_count": 24,
   "metadata": {},
   "outputs": [],
   "source": [
    "#It seems to be the POWER and SQRT operations to show that different metric systems may affect the results?\n"
   ]
  },
  {
   "cell_type": "code",
   "execution_count": 25,
   "metadata": {},
   "outputs": [],
   "source": [
    "#But percentge of samples inside the standard deviation must be the same\n"
   ]
  },
  {
   "cell_type": "code",
   "execution_count": null,
   "metadata": {},
   "outputs": [],
   "source": []
  }
 ],
 "metadata": {
  "kernelspec": {
   "display_name": "Python 3",
   "language": "python",
   "name": "python3"
  },
  "language_info": {
   "codemirror_mode": {
    "name": "ipython",
    "version": 3
   },
   "file_extension": ".py",
   "mimetype": "text/x-python",
   "name": "python",
   "nbconvert_exporter": "python",
   "pygments_lexer": "ipython3",
   "version": "3.8.3"
  }
 },
 "nbformat": 4,
 "nbformat_minor": 2
}
